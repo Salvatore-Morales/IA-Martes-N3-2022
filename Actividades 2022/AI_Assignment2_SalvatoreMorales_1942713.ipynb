{
  "nbformat": 4,
  "nbformat_minor": 0,
  "metadata": {
    "colab": {
      "provenance": [],
      "authorship_tag": "ABX9TyNhcceW5JWGiMco0FjkVbOb",
      "include_colab_link": true
    },
    "kernelspec": {
      "name": "python3",
      "display_name": "Python 3"
    },
    "language_info": {
      "name": "python"
    }
  },
  "cells": [
    {
      "cell_type": "markdown",
      "metadata": {
        "id": "view-in-github",
        "colab_type": "text"
      },
      "source": [
        "<a href=\"https://colab.research.google.com/github/Salvatore-Morales/IA-Martes-N3-2022/blob/main/Actividades%202022/AI_Assignment2_SalvatoreMorales_1942713.ipynb\" target=\"_parent\"><img src=\"https://colab.research.google.com/assets/colab-badge.svg\" alt=\"Open In Colab\"/></a>"
      ]
    },
    {
      "cell_type": "code",
      "source": [
        "A2. Python Exercises, José Salvatore Morales Lozano, 1942713, Thursday N4"
      ],
      "metadata": {
        "id": "kUAcMubtXp-O"
      },
      "execution_count": null,
      "outputs": []
    },
    {
      "cell_type": "code",
      "execution_count": 29,
      "metadata": {
        "id": "XEAzhrIJRvpv",
        "colab": {
          "base_uri": "https://localhost:8080/"
        },
        "outputId": "73f2abbf-a66b-41e2-df5d-e0e1c6ccacb6"
      },
      "outputs": [
        {
          "output_type": "stream",
          "name": "stdout",
          "text": [
            "Por favor escriba su nombre: Jose\n",
            "Hola Jose\n"
          ]
        }
      ],
      "source": [
        "nombre = input(\"Por favor escriba su nombre: \")\n",
        "if  nombre == \"Ana\" or nombre == \"John\" or nombre == \"Peter\":\n",
        "  print(\"No hay saludo para ti\")\n",
        "else:\n",
        "  print(\"Hola\", nombre)"
      ]
    },
    {
      "cell_type": "code",
      "source": [
        "Lista = [\"1\", \"2\",\"3\",\"4\",\"5\"]\n",
        "print(Lista[-1])\n",
        "Lista2=list(reversed(Lista))\n",
        "print(Lista2)"
      ],
      "metadata": {
        "colab": {
          "base_uri": "https://localhost:8080/"
        },
        "id": "3f8F6FbVwrYm",
        "outputId": "f1851ba5-f796-4798-ee00-e26c19db3982"
      },
      "execution_count": 6,
      "outputs": [
        {
          "output_type": "stream",
          "name": "stdout",
          "text": [
            "5\n",
            "['5', '4', '3', '2', '1']\n"
          ]
        }
      ]
    },
    {
      "cell_type": "code",
      "source": [
        "Lista = [\"1\", \"2\",\"3\",\"4\",\"5\"]\n",
        "print(\"*****\")\n",
        "for a in Lista:\n",
        "  print(\"*\" + a + \"*\") \n",
        "else:\n",
        "  print(\"*****\")"
      ],
      "metadata": {
        "colab": {
          "base_uri": "https://localhost:8080/"
        },
        "id": "9wNUXhkZELEO",
        "outputId": "f4d8d147-2f1f-419a-bfb9-277b2dc601e1"
      },
      "execution_count": 26,
      "outputs": [
        {
          "output_type": "stream",
          "name": "stdout",
          "text": [
            "*****\n",
            "*1*\n",
            "*2*\n",
            "*3*\n",
            "*4*\n",
            "*5*\n",
            "*****\n"
          ]
        }
      ]
    }
  ]
}